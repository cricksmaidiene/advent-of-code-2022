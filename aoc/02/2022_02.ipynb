{
 "cells": [
  {
   "cell_type": "markdown",
   "id": "9b3567bb-d680-4e93-84f0-e96e2a68b878",
   "metadata": {},
   "source": [
    "## --- Day 2: Rock Paper Scissors ---\n",
    "The Elves begin to set up camp on the beach. To decide whose tent gets to be closest to the snack storage, a giant Rock Paper Scissors tournament is already in progress.\n",
    "\n",
    "Rock Paper Scissors is a game between two players. Each game contains many rounds; in each round, the players each simultaneously choose one of Rock, Paper, or Scissors using a hand shape. Then, a winner for that round is selected: Rock defeats Scissors, Scissors defeats Paper, and Paper defeats Rock. If both players choose the same shape, the round instead ends in a draw.\n",
    "\n",
    "Appreciative of your help yesterday, one Elf gives you an encrypted strategy guide (your puzzle input) that they say will be sure to help you win. \"The first column is what your opponent is going to play: A for Rock, B for Paper, and C for Scissors. The second column--\" Suddenly, the Elf is called away to help with someone's tent.\n",
    "\n",
    "The second column, you reason, must be what you should play in response: X for Rock, Y for Paper, and Z for Scissors. Winning every time would be suspicious, so the responses must have been carefully chosen.\n",
    "\n",
    "The winner of the whole tournament is the player with the highest score. Your total score is the sum of your scores for each round. The score for a single round is the score for the shape you selected (1 for Rock, 2 for Paper, and 3 for Scissors) plus the score for the outcome of the round (0 if you lost, 3 if the round was a draw, and 6 if you won).\n",
    "\n",
    "Since you can't be sure if the Elf is trying to help you or trick you, you should calculate the score you would get if you were to follow the strategy guide.\n",
    "\n",
    "For example, suppose you were given the following strategy guide:\n",
    "\n",
    "A Y\n",
    "B X\n",
    "C Z\n",
    "This strategy guide predicts and recommends the following:\n",
    "\n",
    "In the first round, your opponent will choose Rock (A), and you should choose Paper (Y). This ends in a win for you with a score of 8 (2 because you chose Paper + 6 because you won).\n",
    "In the second round, your opponent will choose Paper (B), and you should choose Rock (X). This ends in a loss for you with a score of 1 (1 + 0).\n",
    "The third round is a draw with both players choosing Scissors, giving you a score of 3 + 3 = 6.\n",
    "In this example, if you were to follow the strategy guide, you would get a total score of 15 (8 + 1 + 6).\n",
    "\n",
    "What would your total score be if everything goes exactly according to your strategy guide?"
   ]
  },
  {
   "cell_type": "code",
   "execution_count": 1,
   "id": "cb261d0c-8436-47fa-a6a2-7c6e67e1b616",
   "metadata": {},
   "outputs": [],
   "source": [
    "with open(\"input.txt\") as f:\n",
    "    inp_tup: list[tuple[str, str]] = [\n",
    "        tuple(x.replace(\"\\n\", \"\").split()) for x in f.readlines()\n",
    "    ]"
   ]
  },
  {
   "cell_type": "code",
   "execution_count": 2,
   "id": "c20f1a60-46cc-4a73-968f-b679d5518aeb",
   "metadata": {},
   "outputs": [
    {
     "name": "stdout",
     "output_type": "stream",
     "text": [
      "[('A', 'Y'), ('B', 'Y'), ('B', 'Z'), ('B', 'Z'), ('B', 'X')]\n"
     ]
    }
   ],
   "source": [
    "print(inp_tup[0:5])"
   ]
  },
  {
   "cell_type": "code",
   "execution_count": 3,
   "id": "b56f9316-a3b1-40d2-a687-1c42a82569c5",
   "metadata": {},
   "outputs": [],
   "source": [
    "# define a mapping of game moves to their points and wins. w means wins against\n",
    "rps_mapping: dict[str, dict[str, int | str]] = dict(\n",
    "    A=dict(p=1, w=\"C\", name=\"Rock\"),\n",
    "    B=dict(p=2, w=\"A\", name=\"Paper\"),\n",
    "    C=dict(p=3, w=\"B\", name=\"Scissor\"),\n",
    ")\n",
    "\n",
    "# define an encoding mapping to bring my moves and elf moves to the same lang\n",
    "enc_mapping: dict[str, str] = dict(X=\"A\", Y=\"B\", Z=\"C\")\n",
    "\n",
    "# define constants\n",
    "draw_score: int = 3\n",
    "win_score: int = 6"
   ]
  },
  {
   "cell_type": "code",
   "execution_count": 4,
   "id": "e4a4da6f-209f-4887-85ff-25f1ac6206ff",
   "metadata": {},
   "outputs": [],
   "source": [
    "def calculate_score(game_round: tuple[str, str]) -> tuple[str, str, int]:\n",
    "    # decoded move\n",
    "    my_move_decoded: str = enc_mapping[game_round[1]]\n",
    "\n",
    "    # begin scores with implicit choice of RPS points\n",
    "    elf_points: int = rps_mapping[game_round[0]][\"p\"]\n",
    "    my_points: int = rps_mapping[enc_mapping[game_round[1]]][\"p\"]\n",
    "\n",
    "    # winning moves\n",
    "    elf_win: str = rps_mapping[game_round[0]][\"w\"]\n",
    "    my_win: str = rps_mapping[enc_mapping[game_round[1]]][\"w\"]\n",
    "\n",
    "    # record moves\n",
    "    elf_move, my_move = game_round[0], my_move_decoded\n",
    "\n",
    "    if elf_move == my_move:\n",
    "        # draw\n",
    "        elf_points += draw_score\n",
    "        my_points += draw_score\n",
    "\n",
    "    else:\n",
    "\n",
    "        if elf_move == my_win:\n",
    "            # elf wins\n",
    "            my_points += win_score\n",
    "\n",
    "        elif my_move == elf_win:\n",
    "            # my win\n",
    "            elf_points += win_score\n",
    "\n",
    "    return (*game_round, my_points)"
   ]
  },
  {
   "cell_type": "code",
   "execution_count": 5,
   "id": "9c7036bd-c2bb-44cd-aa55-998d530b6a0b",
   "metadata": {},
   "outputs": [],
   "source": [
    "out_tup: list[tuple[str, str, int]] = list(map(calculate_score, inp_tup))"
   ]
  },
  {
   "cell_type": "code",
   "execution_count": 6,
   "id": "1be7d58e-323d-4cec-8700-9d5af5292163",
   "metadata": {},
   "outputs": [
    {
     "name": "stdout",
     "output_type": "stream",
     "text": [
      "Following the strategy guide, I will gain: 15422 points\n"
     ]
    }
   ],
   "source": [
    "print(\n",
    "    f\"Following the strategy guide, I will gain: {sum([x[-1] for x in out_tup])} points\"\n",
    ")"
   ]
  },
  {
   "cell_type": "markdown",
   "id": "eb99a65d-de97-4215-acf7-a2e75e3e257b",
   "metadata": {},
   "source": [
    "Part 2"
   ]
  },
  {
   "cell_type": "markdown",
   "id": "fb15a732-d6c2-4539-bd5e-afcbfc3b363e",
   "metadata": {},
   "source": [
    "The Elf finishes helping with the tent and sneaks back over to you. \"Anyway, the second column says how the round needs to end: X means you need to lose, Y means you need to end the round in a draw, and Z means you need to win. Good luck!\"\n",
    "\n",
    "The total score is still calculated in the same way, but now you need to figure out what shape to choose so the round ends as indicated. The example above now goes like this:\n",
    "\n",
    "In the first round, your opponent will choose Rock (A), and you need the round to end in a draw (Y), so you also choose Rock. This gives you a score of 1 + 3 = 4.\n",
    "In the second round, your opponent will choose Paper (B), and you choose Rock so you lose (X) with a score of 1 + 0 = 1.\n",
    "In the third round, you will defeat your opponent's Scissors with Rock for a score of 1 + 6 = 7.\n",
    "Now that you're correctly decrypting the ultra top secret strategy guide, you would get a total score of 12.\n",
    "\n",
    "Following the Elf's instructions for the second column, what would your total score be if everything goes exactly according to your strategy guide?"
   ]
  },
  {
   "cell_type": "code",
   "execution_count": 7,
   "id": "991756c8-81d7-4ea8-8d3e-fcf439cbfbb1",
   "metadata": {},
   "outputs": [],
   "source": [
    "# define losing moves. w means wins against. l means loses against\n",
    "new_rps_mapping: dict[str, dict[str, int | str]] = dict(\n",
    "    A=dict(p=1, w=\"C\", l=\"B\", name=\"Rock\"),\n",
    "    B=dict(p=2, w=\"A\", l=\"C\", name=\"Paper\"),\n",
    "    C=dict(p=3, w=\"B\", l=\"A\", name=\"Scissor\"),\n",
    ")"
   ]
  },
  {
   "cell_type": "code",
   "execution_count": 8,
   "id": "d0783e8f-819a-4f4a-8c68-207651101263",
   "metadata": {},
   "outputs": [],
   "source": [
    "def new_calculate_score(game_round: tuple[str, str]) -> tuple[str, str, int]:\n",
    "    my_score: int = 0\n",
    "    round_key: str = game_round[1]\n",
    "    elf_move: str = game_round[0]\n",
    "\n",
    "    # define points and my move for win, draw and lose wrt elf's move\n",
    "    rule_mapping: dict[str, int] = dict(\n",
    "        X=dict(move=new_rps_mapping[elf_move][\"w\"], p=0),\n",
    "        Y=dict(move=elf_move, p=3),\n",
    "        Z=dict(move=new_rps_mapping[elf_move][\"l\"], p=6),\n",
    "    )\n",
    "\n",
    "    my_move: str = rule_mapping[round_key][\"move\"]\n",
    "    # add score based on choice of rps\n",
    "    my_score += new_rps_mapping[my_move][\"p\"]\n",
    "    # add score based on win, draw, loss\n",
    "    my_score += rule_mapping[round_key][\"p\"]\n",
    "\n",
    "    return (*game_round, my_score)"
   ]
  },
  {
   "cell_type": "code",
   "execution_count": 9,
   "id": "a5778315-4606-4b50-b660-b586b4e5275a",
   "metadata": {},
   "outputs": [],
   "source": [
    "new_out_tup: list[tuple[str, str, int]] = list(map(new_calculate_score, inp_tup))"
   ]
  },
  {
   "cell_type": "code",
   "execution_count": 10,
   "id": "8b1e2842-8b5c-458f-8f6a-78b49f0fc069",
   "metadata": {},
   "outputs": [
    {
     "name": "stdout",
     "output_type": "stream",
     "text": [
      "Following the strategy guide, I will gain: 15442 points\n"
     ]
    }
   ],
   "source": [
    "print(\n",
    "    f\"Following the strategy guide, I will gain: {sum([x[-1] for x in new_out_tup])} points\"\n",
    ")"
   ]
  },
  {
   "cell_type": "code",
   "execution_count": null,
   "id": "71a608d6-7561-4db4-86bf-5fec9fd53d10",
   "metadata": {},
   "outputs": [],
   "source": []
  }
 ],
 "metadata": {
  "kernelspec": {
   "display_name": "dot",
   "language": "python",
   "name": "dot"
  },
  "language_info": {
   "codemirror_mode": {
    "name": "ipython",
    "version": 3
   },
   "file_extension": ".py",
   "mimetype": "text/x-python",
   "name": "python",
   "nbconvert_exporter": "python",
   "pygments_lexer": "ipython3",
   "version": "3.10.8"
  }
 },
 "nbformat": 4,
 "nbformat_minor": 5
}
