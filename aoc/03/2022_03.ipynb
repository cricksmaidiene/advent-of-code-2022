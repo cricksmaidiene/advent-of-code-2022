{
 "cells": [
  {
   "cell_type": "markdown",
   "id": "6f0aacbd-ab69-4cfe-8f4e-dcd02ab15a27",
   "metadata": {},
   "source": [
    "### --- Day 3: Rucksack Reorganization ---\n",
    "One Elf has the important job of loading all of the rucksacks with supplies for the jungle journey. Unfortunately, that Elf didn't quite follow the packing instructions, and so a few items now need to be rearranged.\n",
    "\n",
    "Each rucksack has two large compartments. All items of a given type are meant to go into exactly one of the two compartments. The Elf that did the packing failed to follow this rule for exactly one item type per rucksack.\n",
    "\n",
    "The Elves have made a list of all of the items currently in each rucksack (your puzzle input), but they need your help finding the errors. Every item type is identified by a single lowercase or uppercase letter (that is, a and A refer to different types of items).\n",
    "\n",
    "The list of items for each rucksack is given as characters all on a single line. A given rucksack always has the same number of items in each of its two compartments, so the first half of the characters represent items in the first compartment, while the second half of the characters represent items in the second compartment.\n",
    "\n",
    "For example, suppose you have the following list of contents from six rucksacks:\n",
    "\n",
    "```\n",
    "vJrwpWtwJgWrhcsFMMfFFhFp\n",
    "jqHRNqRjqzjGDLGLrsFMfFZSrLrFZsSL\n",
    "PmmdzqPrVvPwwTWBwg\n",
    "wMqvLMZHhHMvwLHjbvcjnnSBnvTQFn\n",
    "ttgJtRGJQctTZtZT\n",
    "CrZsJsPPZsGzwwsLwLmpwMDw\n",
    "```\n",
    "The first rucksack contains the items `vJrwpWtwJgWrhcsFMMfFFhFp`, which means its first compartment contains the items `vJrwpWtwJgWr`, while the second compartment contains the items `hcsFMMfFFhFp`. The only item type that appears in both compartments is lowercase p.\n",
    "The second rucksack's compartments contain `jqHRNqRjqzjGDLGL` and `rsFMfFZSrLrFZsSL`. The only item type that appears in both compartments is uppercase L.\n",
    "The third rucksack's compartments contain PmmdzqPrV and vPwwTWBwg; the only common item type is uppercase P.\n",
    "The fourth rucksack's compartments only share item type v.\n",
    "The fifth rucksack's compartments only share item type t.\n",
    "The sixth rucksack's compartments only share item type s.\n",
    "To help prioritize item rearrangement, every item type can be converted to a priority:\n",
    "\n",
    "Lowercase item types a through z have priorities 1 through 26.\n",
    "Uppercase item types A through Z have priorities 27 through 52.\n",
    "In the above example, the priority of the item type that appears in both compartments of each rucksack is 16 (p), 38 (L), 42 (P), 22 (v), 20 (t), and 19 (s); the sum of these is 157.\n",
    "\n",
    "Find the item type that appears in both compartments of each rucksack. What is the sum of the priorities of those item types?"
   ]
  },
  {
   "cell_type": "code",
   "execution_count": null,
   "id": "708b6264-17bb-4824-8531-4f180cf462fa",
   "metadata": {
    "vscode": {
     "languageId": "python"
    }
   },
   "outputs": [],
   "source": [
    "import string"
   ]
  },
  {
   "cell_type": "code",
   "execution_count": 1,
   "id": "81d288cf-041a-4453-bcec-2750753723a5",
   "metadata": {
    "vscode": {
     "languageId": "python"
    }
   },
   "outputs": [],
   "source": [
    "with open(\"input.txt\") as f:\n",
    "    inp_tup: list[str] = [x.replace(\"\\n\", \"\") for x in f.readlines()]"
   ]
  },
  {
   "cell_type": "code",
   "execution_count": 2,
   "id": "27966155-2f44-492d-856c-ac2d9fc87704",
   "metadata": {
    "vscode": {
     "languageId": "python"
    }
   },
   "outputs": [
    {
     "data": {
      "text/plain": [
       "['WjmsdnddnmQPZPPJPL',\n",
       " 'bQllTtpBlgwtrbbCwfZcfSFPSfLCSF',\n",
       " 'GgVgQrlpphBGrlVGgTtsRHRWVRMzRdVsqdnDnV',\n",
       " 'MMTcbpnfNGQbMjgsRwSzRptRzz',\n",
       " 'lPqCCqQdQqQmCPRzRVSwtzgqqwqR']"
      ]
     },
     "execution_count": 2,
     "metadata": {},
     "output_type": "execute_result"
    }
   ],
   "source": [
    "print(inp_tup[0:5])"
   ]
  },
  {
   "cell_type": "code",
   "execution_count": 44,
   "id": "b4e8136c-6651-4499-aee1-a99eedf348e6",
   "metadata": {
    "vscode": {
     "languageId": "python"
    }
   },
   "outputs": [],
   "source": [
    "# slice each string of the list by half\n",
    "inp_tup_split: list[tuple[str, str]] = [\n",
    "    (x[0 : int(len(x) / 2)], x[int(len(x) / 2) : len(x)]) for x in inp_tup\n",
    "]\n",
    "\n",
    "# Convert each half into a set of unique characters\n",
    "inp_tup_set: list[tuple[set[str], set[str]]] = [\n",
    "    (set(x[0]), set(x[1])) for x in inp_tup_split\n",
    "]\n",
    "\n",
    "# Use set intersection to return the common character\n",
    "inp_tup_intersection: list[str] = [\n",
    "    list(x[0].intersection(x[1]))[0] for x in inp_tup_set\n",
    "]"
   ]
  },
  {
   "cell_type": "code",
   "execution_count": 45,
   "id": "1f771d53-836b-475d-8167-554b36939a78",
   "metadata": {
    "vscode": {
     "languageId": "python"
    }
   },
   "outputs": [
    {
     "data": {
      "text/plain": [
       "['m', 'w', 'V', 'p', 'q']"
      ]
     },
     "execution_count": 45,
     "metadata": {},
     "output_type": "execute_result"
    }
   ],
   "source": [
    "print(inp_tup_intersection[0:5])"
   ]
  },
  {
   "cell_type": "code",
   "execution_count": 40,
   "id": "6078059f-590d-490f-affc-42520baefe1e",
   "metadata": {
    "vscode": {
     "languageId": "python"
    }
   },
   "outputs": [],
   "source": [
    "# create a mapping of characters to numbers\n",
    "lowercase_map: dict[str, int] = {\n",
    "    x: indx + 1 for indx, x in enumerate(string.ascii_lowercase)\n",
    "}\n",
    "uppercase_map: dict[str, int] = {\n",
    "    x: indx + 27 for indx, x in enumerate(string.ascii_uppercase)\n",
    "}\n",
    "full_map: dict[str, int] = lowercase_map | uppercase_map"
   ]
  },
  {
   "cell_type": "code",
   "execution_count": 46,
   "id": "29f95ee7-2b2e-42c3-bc25-0e955a63b4a2",
   "metadata": {
    "vscode": {
     "languageId": "python"
    }
   },
   "outputs": [
    {
     "data": {
      "text/plain": [
       "7568"
      ]
     },
     "execution_count": 46,
     "metadata": {},
     "output_type": "execute_result"
    }
   ],
   "source": [
    "# sum the priorities\n",
    "sum([full_map[x] for x in inp_tup_intersection])"
   ]
  },
  {
   "cell_type": "markdown",
   "id": "273d9afc-5527-4164-98c3-5bc25157f998",
   "metadata": {},
   "source": [
    "Part two"
   ]
  },
  {
   "cell_type": "markdown",
   "id": "0a1a876d-cd15-4e69-bbc8-69236cb15595",
   "metadata": {},
   "source": [
    "As you finish identifying the misplaced items, the Elves come to you with another issue.\n",
    "\n",
    "For safety, the Elves are divided into groups of three. Every Elf carries a badge that identifies their group. For efficiency, within each group of three Elves, the badge is the only item type carried by all three Elves. That is, if a group's badge is item type B, then all three Elves will have item type B somewhere in their rucksack, and at most two of the Elves will be carrying any other item type.\n",
    "\n",
    "The problem is that someone forgot to put this year's updated authenticity sticker on the badges. All of the badges need to be pulled out of the rucksacks so the new authenticity stickers can be attached.\n",
    "\n",
    "Additionally, nobody wrote down which item type corresponds to each group's badges. The only way to tell which item type is the right one is by finding the one item type that is common between all three Elves in each group.\n",
    "\n",
    "Every set of three lines in your list corresponds to a single group, but each group can have a different badge item type. So, in the above example, the first group's rucksacks are the first three lines:\n",
    "\n",
    "```\n",
    "vJrwpWtwJgWrhcsFMMfFFhFp\n",
    "jqHRNqRjqzjGDLGLrsFMfFZSrLrFZsSL\n",
    "PmmdzqPrVvPwwTWBwg\n",
    "```\n",
    "And the second group's rucksacks are the next three lines:\n",
    "```\n",
    "wMqvLMZHhHMvwLHjbvcjnnSBnvTQFn\n",
    "ttgJtRGJQctTZtZT\n",
    "CrZsJsPPZsGzwwsLwLmpwMDw\n",
    "```\n",
    "In the first group, the only item type that appears in all three rucksacks is lowercase r; this must be their badges. In the second group, their badge item type must be Z.\n",
    "\n",
    "Priorities for these items must still be found to organize the sticker attachment efforts: here, they are 18 (r) for the first group and 52 (Z) for the second group. The sum of these is 70.\n",
    "\n",
    "Find the item type that corresponds to the badges of each three-Elf group. What is the sum of the priorities of those item types?"
   ]
  },
  {
   "cell_type": "code",
   "execution_count": 50,
   "id": "173e88be-2d76-4893-b772-c5e1f131ee06",
   "metadata": {
    "vscode": {
     "languageId": "python"
    }
   },
   "outputs": [],
   "source": [
    "# create groupings of 3 across the list of racksacks\n",
    "grouped_set: list[list[tuple[set[str], set[str]]]] = [\n",
    "    inp_tup_set[x : x + 3] for x in range(0, len(inp_tup_set), 3)\n",
    "]"
   ]
  },
  {
   "cell_type": "code",
   "execution_count": 66,
   "id": "d6e2ebf0-93e3-4b14-a385-86529da2a4c8",
   "metadata": {
    "vscode": {
     "languageId": "python"
    }
   },
   "outputs": [
    {
     "name": "stdout",
     "output_type": "stream",
     "text": [
      "[({'d', 's', 'm', 'W', 'j', 'n'}, {'Z', 'm', 'L', 'J', 'P', 'Q'}), ({'B', 't', 'r', 'T', 'g', 'w', 'b', 'p', 'l', 'Q'}, {'Z', 'S', 'F', 'P', 'C', 'L', 'f', 'w', 'c'}), ({'B', 't', 'T', 'g', 'G', 'V', 'Q', 'h', 'p', 'l', 'r'}, {'z', 'd', 'H', 's', 'R', 'D', 'q', 'V', 'M', 'W', 'n'})]\n"
     ]
    }
   ],
   "source": [
    "print(grouped_set[0])"
   ]
  },
  {
   "cell_type": "code",
   "execution_count": 83,
   "id": "35efb9fd-43a8-44a6-be27-52980757964e",
   "metadata": {
    "vscode": {
     "languageId": "python"
    }
   },
   "outputs": [],
   "source": [
    "trio_badges: list[str] = []\n",
    "for x in grouped_set:\n",
    "    # For each trio grouping\n",
    "    trio: list[set[str]] = []\n",
    "    for y in x:\n",
    "        # for each dual set of a single rackack\n",
    "        trio.append(y[0].union(y[1]))\n",
    "    # get badge based on intersection of 3 sets within the trio\n",
    "    badge: str = list(set.intersection(*list(trio)))[0]\n",
    "    # append intersecting element (badge) to main list\n",
    "    trio_badges.append(badge)"
   ]
  },
  {
   "cell_type": "code",
   "execution_count": 86,
   "id": "4a6895d0-4705-4388-8af0-5e3f09953aba",
   "metadata": {
    "vscode": {
     "languageId": "python"
    }
   },
   "outputs": [
    {
     "name": "stdout",
     "output_type": "stream",
     "text": [
      "['Q', 'Q', 'v', 'm', 'P']\n"
     ]
    }
   ],
   "source": [
    "print(trio_badges[0:5])"
   ]
  },
  {
   "cell_type": "code",
   "execution_count": 87,
   "id": "7dedad02-74cf-4870-af6c-8ad79603ea67",
   "metadata": {
    "vscode": {
     "languageId": "python"
    }
   },
   "outputs": [
    {
     "data": {
      "text/plain": [
       "2780"
      ]
     },
     "execution_count": 87,
     "metadata": {},
     "output_type": "execute_result"
    }
   ],
   "source": [
    "# sum the priorities\n",
    "sum([full_map[x] for x in trio_badges])"
   ]
  }
 ],
 "metadata": {
  "kernelspec": {
   "display_name": "dot",
   "language": "python",
   "name": "dot"
  }
 },
 "nbformat": 4,
 "nbformat_minor": 5
}
