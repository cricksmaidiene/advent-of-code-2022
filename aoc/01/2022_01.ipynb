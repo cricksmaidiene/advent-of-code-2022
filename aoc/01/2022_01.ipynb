{
 "cells": [
  {
   "cell_type": "markdown",
   "id": "738f4fcb-c4b4-46f3-ad7e-166a66122b9b",
   "metadata": {},
   "source": [
    "### --- Day 1: Calorie Counting ---\n",
    "Santa's reindeer typically eat regular reindeer food, but they need a lot of magical energy to deliver presents on Christmas. For that, their favorite snack is a special type of star fruit that only grows deep in the jungle. The Elves have brought you on their annual expedition to the grove where the fruit grows.\n",
    "\n",
    "To supply enough magical energy, the expedition needs to retrieve a minimum of fifty stars by December 25th. Although the Elves assure you that the grove has plenty of fruit, you decide to grab any fruit you see along the way, just in case.\n",
    "\n",
    "Collect stars by solving puzzles. Two puzzles will be made available on each day in the Advent calendar; the second puzzle is unlocked when you complete the first. Each puzzle grants one star. Good luck!\n",
    "\n",
    "The jungle must be too overgrown and difficult to navigate in vehicles or access from the air; the Elves' expedition traditionally goes on foot. As your boats approach land, the Elves begin taking inventory of their supplies. One important consideration is food - in particular, the number of Calories each Elf is carrying (your puzzle input).\n",
    "\n",
    "The Elves take turns writing down the number of Calories contained by the various meals, snacks, rations, etc. that they've brought with them, one item per line. Each Elf separates their own inventory from the previous Elf's inventory (if any) by a blank line.\n",
    "\n",
    "For example, suppose the Elves finish writing their items' Calories and end up with the following list:\n",
    "```\n",
    "1000\n",
    "2000\n",
    "3000\n",
    "\n",
    "4000\n",
    "\n",
    "5000\n",
    "6000\n",
    "\n",
    "7000\n",
    "8000\n",
    "9000\n",
    "\n",
    "10000\n",
    "```\n",
    "This list represents the Calories of the food carried by five Elves:\n",
    "\n",
    "The first Elf is carrying food with 1000, 2000, and 3000 Calories, a total of 6000 Calories.\n",
    "The second Elf is carrying one food item with 4000 Calories.\n",
    "The third Elf is carrying food with 5000 and 6000 Calories, a total of 11000 Calories.\n",
    "The fourth Elf is carrying food with 7000, 8000, and 9000 Calories, a total of 24000 Calories.\n",
    "The fifth Elf is carrying one food item with 10000 Calories.\n",
    "In case the Elves get hungry and need extra snacks, they need to know which Elf to ask: they'd like to know how many Calories are being carried by the Elf carrying the most Calories. In the example above, this is 24000 (carried by the fourth Elf).\n",
    "\n",
    "Find the Elf carrying the most Calories. How many total Calories is that Elf carrying?"
   ]
  },
  {
   "cell_type": "code",
   "execution_count": 2,
   "id": "402bf9bb-529c-48e3-803e-dc24f0303a5f",
   "metadata": {
    "vscode": {
     "languageId": "python"
    }
   },
   "outputs": [],
   "source": [
    "with open(\"input.txt\") as f:\n",
    "    inp: list[str] = f.readlines()\n",
    "    inp_cl: list[str] = [x.replace(\"\\n\", \"\") for x in inp]"
   ]
  },
  {
   "cell_type": "code",
   "execution_count": 3,
   "id": "f1c4823d-8174-44be-af6c-588e8c243520",
   "metadata": {
    "vscode": {
     "languageId": "python"
    }
   },
   "outputs": [],
   "source": [
    "block_list: list[list[int] | None] = []\n",
    "block: list[int | None] = []\n",
    "\n",
    "for x in inp_cl:\n",
    "    if not x:\n",
    "        block_list.append(block)\n",
    "        block = []\n",
    "    else:\n",
    "        block.append(int(x))"
   ]
  },
  {
   "cell_type": "markdown",
   "id": "4cc46b2d-0ef2-486b-b519-bd5b8b17071d",
   "metadata": {},
   "source": [
    "Calories of Max Elf"
   ]
  },
  {
   "cell_type": "code",
   "execution_count": 4,
   "id": "1f3c3950-391d-40ed-8137-104746627752",
   "metadata": {
    "vscode": {
     "languageId": "python"
    }
   },
   "outputs": [
    {
     "name": "stdout",
     "output_type": "stream",
     "text": [
      "70613\n"
     ]
    }
   ],
   "source": [
    "block_sums: list[int] = [sum(x) for x in block_list]\n",
    "max_elf: int = max(block_sums)\n",
    "print(max_elf)"
   ]
  },
  {
   "cell_type": "markdown",
   "id": "88eb1196-01af-4c22-943c-ec8f513f3445",
   "metadata": {},
   "source": [
    "Top Three Elves"
   ]
  },
  {
   "cell_type": "markdown",
   "id": "1d207afa-faba-4795-b53e-558c5c2607b7",
   "metadata": {},
   "source": [
    "By the time you calculate the answer to the Elves' question, they've already realized that the Elf carrying the most Calories of food might eventually run out of snacks.\n",
    "\n",
    "To avoid this unacceptable situation, the Elves would instead like to know the total Calories carried by the top three Elves carrying the most Calories. That way, even if one of those Elves runs out of snacks, they still have two backups.\n",
    "\n",
    "In the example above, the top three Elves are the fourth Elf (with 24000 Calories), then the third Elf (with 11000 Calories), then the fifth Elf (with 10000 Calories). The sum of the Calories carried by these three elves is 45000.\n",
    "\n",
    "Find the top three Elves carrying the most Calories. How many Calories are those Elves carrying in total?"
   ]
  },
  {
   "cell_type": "code",
   "execution_count": 8,
   "id": "97f8a59c-f419-496e-aef4-1b044358525e",
   "metadata": {
    "vscode": {
     "languageId": "python"
    }
   },
   "outputs": [
    {
     "data": {
      "text/plain": [
       "205805"
      ]
     },
     "execution_count": 8,
     "metadata": {},
     "output_type": "execute_result"
    }
   ],
   "source": [
    "sum(sorted(block_sums)[-3:])"
   ]
  }
 ],
 "metadata": {
  "kernelspec": {
   "display_name": "dot",
   "language": "python",
   "name": "dot"
  }
 },
 "nbformat": 4,
 "nbformat_minor": 5
}
