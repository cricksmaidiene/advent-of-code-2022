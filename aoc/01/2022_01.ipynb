{
 "cells": [
  {
   "cell_type": "code",
   "execution_count": 9,
   "id": "402bf9bb-529c-48e3-803e-dc24f0303a5f",
   "metadata": {},
   "outputs": [],
   "source": [
    "with open(\"input.txt\") as f:\n",
    "    inp: list[str] = f.readlines()\n",
    "    inp_cl: list[str] = [x.replace(\"\\n\", \"\") for x in inp]"
   ]
  },
  {
   "cell_type": "code",
   "execution_count": 17,
   "id": "f1c4823d-8174-44be-af6c-588e8c243520",
   "metadata": {},
   "outputs": [],
   "source": [
    "block_list: list[list[int] | None] = []\n",
    "block: list[int | None] = []\n",
    "\n",
    "for x in inp_cl:\n",
    "    if not x:\n",
    "        block_list.append(block)\n",
    "        block = []\n",
    "    else:\n",
    "        block.append(int(x))"
   ]
  },
  {
   "cell_type": "markdown",
   "id": "4cc46b2d-0ef2-486b-b519-bd5b8b17071d",
   "metadata": {},
   "source": [
    "Calories of Max Elf"
   ]
  },
  {
   "cell_type": "code",
   "execution_count": 23,
   "id": "1f3c3950-391d-40ed-8137-104746627752",
   "metadata": {},
   "outputs": [
    {
     "name": "stdout",
     "output_type": "stream",
     "text": [
      "70613\n"
     ]
    }
   ],
   "source": [
    "block_sums: list[int] = [sum(x) for x in block_list]\n",
    "max_elf: int = max(block_sums)\n",
    "print(max_elf)"
   ]
  },
  {
   "cell_type": "markdown",
   "id": "88eb1196-01af-4c22-943c-ec8f513f3445",
   "metadata": {},
   "source": [
    "Top Three Elves"
   ]
  },
  {
   "cell_type": "code",
   "execution_count": null,
   "id": "0a87bbd8-20ee-4a7f-a9be-8966f2456701",
   "metadata": {},
   "outputs": [],
   "source": []
  }
 ],
 "metadata": {
  "kernelspec": {
   "display_name": "dot",
   "language": "python",
   "name": "dot"
  },
  "language_info": {
   "codemirror_mode": {
    "name": "ipython",
    "version": 3
   },
   "file_extension": ".py",
   "mimetype": "text/x-python",
   "name": "python",
   "nbconvert_exporter": "python",
   "pygments_lexer": "ipython3",
   "version": "3.10.8"
  }
 },
 "nbformat": 4,
 "nbformat_minor": 5
}
