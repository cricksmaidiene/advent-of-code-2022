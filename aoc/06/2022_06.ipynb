{
 "cells": [
  {
   "cell_type": "markdown",
   "id": "1b85783a-9a99-446d-9945-cb5fb9fa92ed",
   "metadata": {},
   "source": [
    "### --- Day 6: Tuning Trouble ---\n",
    "The preparations are finally complete; you and the Elves leave camp on foot and begin to make your way toward the star fruit grove.\n",
    "\n",
    "As you move through the dense undergrowth, one of the Elves gives you a handheld device. He says that it has many fancy features, but the most important one to set up right now is the communication system.\n",
    "\n",
    "However, because he's heard you have significant experience dealing with signal-based systems, he convinced the other Elves that it would be okay to give you their one malfunctioning device - surely you'll have no problem fixing it.\n",
    "\n",
    "As if inspired by comedic timing, the device emits a few colorful sparks.\n",
    "\n",
    "To be able to communicate with the Elves, the device needs to lock on to their signal. The signal is a series of seemingly-random characters that the device receives one at a time.\n",
    "\n",
    "To fix the communication system, you need to add a subroutine to the device that detects a start-of-packet marker in the datastream. In the protocol being used by the Elves, the start of a packet is indicated by a sequence of four characters that are all different.\n",
    "\n",
    "The device will send your subroutine a datastream buffer (your puzzle input); your subroutine needs to identify the first position where the four most recently received characters were all different. Specifically, it needs to report the number of characters from the beginning of the buffer to the end of the first such four-character marker.\n",
    "\n",
    "For example, suppose you receive the following datastream buffer:\n",
    "\n",
    "mjqjpqmgbljsphdztnvjfqwrcgsmlb\n",
    "After the first three characters (mjq) have been received, there haven't been enough characters received yet to find the marker. The first time a marker could occur is after the fourth character is received, making the most recent four characters mjqj. Because j is repeated, this isn't a marker.\n",
    "\n",
    "The first time a marker appears is after the seventh character arrives. Once it does, the last four characters received are jpqm, which are all different. In this case, your subroutine should report the value 7, because the first start-of-packet marker is complete after 7 characters have been processed.\n",
    "\n",
    "Here are a few more examples:\n",
    "\n",
    "bvwbjplbgvbhsrlpgdmjqwftvncz: \n",
    "first marker after character 5\n",
    "\n",
    "nppdvjthqldpwncqszvftbrmjlhg: \n",
    "first marker after character 6\n",
    "\n",
    "nznrnfrfntjfmvfwmzdfjlvtqnbhcprsg: \n",
    "first marker after character 10\n",
    "\n",
    "zcfzfwzzqfrljwzlrfnpqdbhtmscgvjw: \n",
    "first marker after character 11\n",
    "\n",
    "How many characters need to be processed before the first start-of-packet marker is detected?"
   ]
  },
  {
   "cell_type": "code",
   "execution_count": 6,
   "id": "60b018ba-942b-4bf9-bd94-679271eae78c",
   "metadata": {},
   "outputs": [],
   "source": [
    "with open(\"input.txt\") as f:\n",
    "    inp: str = f.read().replace(\"\\n\", \"\")"
   ]
  },
  {
   "cell_type": "code",
   "execution_count": 49,
   "id": "15788ff9-3dbe-4e13-b001-6d66d2abbdf9",
   "metadata": {},
   "outputs": [],
   "source": [
    "def detect_packet(input_str: str, distinct_characters: int) -> tuple[str, int]:\n",
    "    stream_packets: list[str] = [\n",
    "        input_str[x : x + distinct_characters] for x in range(0, len(input_str))\n",
    "    ]\n",
    "    stream_sets: list[set[str]] = [set(x) for x in stream_packets]\n",
    "\n",
    "    packet_msg, packet_indx = None, None\n",
    "\n",
    "    for indx, x in enumerate(stream_sets):\n",
    "        if len(x) == distinct_characters:\n",
    "            packet_msg: str = stream_packets[indx]\n",
    "            packet_indx: int = indx + (distinct_characters - 1) + 1\n",
    "            break\n",
    "\n",
    "    return packet_msg, packet_indx"
   ]
  },
  {
   "cell_type": "code",
   "execution_count": 50,
   "id": "57aef71b-3eb8-492b-95ef-65833d8bde5b",
   "metadata": {},
   "outputs": [
    {
     "name": "stdout",
     "output_type": "stream",
     "text": [
      "('hvtq', 1155)\n"
     ]
    }
   ],
   "source": [
    "print(detect_packet(inp, 4))"
   ]
  },
  {
   "cell_type": "markdown",
   "id": "8aff8625-9598-4653-bfa6-43417f5ea2bc",
   "metadata": {},
   "source": [
    "Part Two"
   ]
  },
  {
   "cell_type": "markdown",
   "id": "7d609949-49a5-4da5-829f-b2dc9cbbe652",
   "metadata": {},
   "source": [
    "Your device's communication system is correctly detecting packets, but still isn't working. It looks like it also needs to look for messages.\n",
    "\n",
    "A start-of-message marker is just like a start-of-packet marker, except it consists of 14 distinct characters rather than 4.\n",
    "\n",
    "Here are the first positions of start-of-message markers for all of the above examples:\n",
    "\n",
    "mjqjpqmgbljsphdztnvjfqwrcgsmlb: first marker after character 19\n",
    "\n",
    "bvwbjplbgvbhsrlpgdmjqwftvncz: first marker after character 23\n",
    "\n",
    "nppdvjthqldpwncqszvftbrmjlhg: first marker after character 23\n",
    "\n",
    "nznrnfrfntjfmvfwmzdfjlvtqnbhcprsg: first marker after character 29\n",
    "\n",
    "zcfzfwzzqfrljwzlrfnpqdbhtmscgvjw: first marker after character 26\n",
    "\n",
    "How many characters need to be processed before the first start-of-message marker is detected?"
   ]
  },
  {
   "cell_type": "code",
   "execution_count": 51,
   "id": "9f93ce88-643a-410d-8f2b-77bb1c7b16d9",
   "metadata": {},
   "outputs": [
    {
     "name": "stdout",
     "output_type": "stream",
     "text": [
      "('jzprftbqvdsghn', 2789)\n"
     ]
    }
   ],
   "source": [
    "print(detect_packet(inp, 14))"
   ]
  },
  {
   "cell_type": "code",
   "execution_count": null,
   "id": "45c25c07-e0d4-4755-8fa1-f95d7fd11b36",
   "metadata": {},
   "outputs": [],
   "source": []
  }
 ],
 "metadata": {
  "kernelspec": {
   "display_name": "dot",
   "language": "python",
   "name": "dot"
  },
  "language_info": {
   "codemirror_mode": {
    "name": "ipython",
    "version": 3
   },
   "file_extension": ".py",
   "mimetype": "text/x-python",
   "name": "python",
   "nbconvert_exporter": "python",
   "pygments_lexer": "ipython3",
   "version": "3.10.8"
  }
 },
 "nbformat": 4,
 "nbformat_minor": 5
}
