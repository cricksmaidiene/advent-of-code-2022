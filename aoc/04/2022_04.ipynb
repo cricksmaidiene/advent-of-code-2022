{
 "cells": [
  {
   "cell_type": "markdown",
   "id": "53f2abd8-cf03-4d4d-bcf7-4a30635094aa",
   "metadata": {},
   "source": [
    "### --- Day 4: Camp Cleanup ---\n",
    "Space needs to be cleared before the last supplies can be unloaded from the ships, and so several Elves have been assigned the job of cleaning up sections of the camp. Every section has a unique ID number, and each Elf is assigned a range of section IDs.\n",
    "\n",
    "However, as some of the Elves compare their section assignments with each other, they've noticed that many of the assignments overlap. To try to quickly find overlaps and reduce duplicated effort, the Elves pair up and make a big list of the section assignments for each pair (your puzzle input).\n",
    "\n",
    "For example, consider the following list of section assignment pairs:\n",
    "\n",
    "```\n",
    "2-4,6-8\n",
    "2-3,4-5\n",
    "5-7,7-9\n",
    "2-8,3-7\n",
    "6-6,4-6\n",
    "2-6,4-8\n",
    "```\n",
    "For the first few pairs, this list means:\n",
    "\n",
    "Within the first pair of Elves, the first Elf was assigned sections 2-4 (sections 2, 3, and 4), while the second Elf was assigned sections 6-8 (sections 6, 7, 8).\n",
    "The Elves in the second pair were each assigned two sections.\n",
    "The Elves in the third pair were each assigned three sections: one got sections 5, 6, and 7, while the other also got 7, plus 8 and 9.\n",
    "This example list uses single-digit section IDs to make it easier to draw; your actual list might contain larger numbers. Visually, these pairs of section assignments look like this:\n",
    "```\n",
    ".234.....  2-4\n",
    ".....678.  6-8\n",
    "\n",
    ".23......  2-3\n",
    "...45....  4-5\n",
    "\n",
    "....567..  5-7\n",
    "......789  7-9\n",
    "\n",
    ".2345678.  2-8\n",
    "..34567..  3-7\n",
    "\n",
    ".....6...  6-6\n",
    "...456...  4-6\n",
    "\n",
    ".23456...  2-6\n",
    "...45678.  4-8\n",
    "```\n",
    "Some of the pairs have noticed that one of their assignments fully contains the other. For example, 2-8 fully contains 3-7, and 6-6 is fully contained by 4-6. In pairs where one assignment fully contains the other, one Elf in the pair would be exclusively cleaning sections their partner will already be cleaning, so these seem like the most in need of reconsideration. In this example, there are 2 such pairs.\n",
    "\n",
    "In how many assignment pairs does one range fully contain the other?"
   ]
  },
  {
   "cell_type": "code",
   "execution_count": 5,
   "id": "5f937636-dbbf-4b4d-a2bd-6c06018eccb4",
   "metadata": {},
   "outputs": [],
   "source": [
    "with open(\"input.txt\") as f:\n",
    "    inp_tup: list[tuple[str, str]] = [\n",
    "        tuple(x.replace(\"\\n\", \"\").split(\",\")) for x in f.readlines()\n",
    "    ]"
   ]
  },
  {
   "cell_type": "code",
   "execution_count": 6,
   "id": "8efd5181-35ac-4395-9fbf-cc66e95bbe5e",
   "metadata": {},
   "outputs": [
    {
     "name": "stdout",
     "output_type": "stream",
     "text": [
      "[('8-18', '10-19'), ('12-69', '8-15'), ('62-77', '36-50'), ('26-27', '26-91'), ('16-23', '24-63')]\n"
     ]
    }
   ],
   "source": [
    "print(inp_tup[0:5])"
   ]
  },
  {
   "cell_type": "code",
   "execution_count": 7,
   "id": "70f317bb-6eda-4933-af40-44da1c447435",
   "metadata": {},
   "outputs": [],
   "source": [
    "mark_subsets: list[int] = []\n",
    "\n",
    "for x in inp_tup:\n",
    "    elf_pair: list[set[int]] = []\n",
    "    for y in x:\n",
    "        range_split: list[str] = y.split(\"-\")\n",
    "        start, end = int(range_split[0]), int(range_split[1])\n",
    "        elf_pair.append(set([z for z in range(start, end + 1)]))\n",
    "\n",
    "    set_1, set_2 = elf_pair[0], elf_pair[1]\n",
    "    if set_1.issubset(set_2) or set_2.issubset(set_1):\n",
    "        mark_subsets.append(1)\n",
    "    else:\n",
    "        mark_subsets.append(0)"
   ]
  },
  {
   "cell_type": "code",
   "execution_count": 10,
   "id": "6e8eecd6-face-4b01-8da8-f78e69fbb05a",
   "metadata": {},
   "outputs": [
    {
     "data": {
      "text/plain": [
       "448"
      ]
     },
     "execution_count": 10,
     "metadata": {},
     "output_type": "execute_result"
    }
   ],
   "source": [
    "sum(mark_subsets)"
   ]
  },
  {
   "cell_type": "markdown",
   "id": "2ba3f7d2-486b-42df-9e39-8171d96bc412",
   "metadata": {},
   "source": [
    "part two"
   ]
  },
  {
   "cell_type": "markdown",
   "id": "9fb3cb30-78d4-4916-b45b-bf06dd46bd80",
   "metadata": {},
   "source": [
    "It seems like there is still quite a bit of duplicate work planned. Instead, the Elves would like to know the number of pairs that overlap at all.\n",
    "\n",
    "In the above example, the first two pairs (2-4,6-8 and 2-3,4-5) don't overlap, while the remaining four pairs (5-7,7-9, 2-8,3-7, 6-6,4-6, and 2-6,4-8) do overlap:\n",
    "\n",
    "```\n",
    "5-7,7-9 overlaps in a single section, 7.\n",
    "2-8,3-7 overlaps all of the sections 3 through 7.\n",
    "6-6,4-6 overlaps in a single section, 6.\n",
    "2-6,4-8 overlaps in sections 4, 5, and 6.\n",
    "```\n",
    "\n",
    "So, in this example, the number of overlapping assignment pairs is 4.\n",
    "\n",
    "In how many assignment pairs do the ranges overlap?"
   ]
  },
  {
   "cell_type": "code",
   "execution_count": 11,
   "id": "1451d83e-609b-4796-be7a-526312fefeab",
   "metadata": {},
   "outputs": [],
   "source": [
    "mark_overlaps: list[int] = []\n",
    "\n",
    "for x in inp_tup:\n",
    "    elf_pair: list[set[int]] = []\n",
    "    for y in x:\n",
    "        range_split: list[str] = y.split(\"-\")\n",
    "        start, end = int(range_split[0]), int(range_split[1])\n",
    "        elf_pair.append(set([z for z in range(start, end + 1)]))\n",
    "\n",
    "    set_1, set_2 = elf_pair[0], elf_pair[1]\n",
    "    if set_1.intersection(set_2):\n",
    "        mark_overlaps.append(1)\n",
    "    else:\n",
    "        mark_overlaps.append(0)"
   ]
  },
  {
   "cell_type": "code",
   "execution_count": 12,
   "id": "08eb4545-23fe-4d71-a5cd-7a34b7f5b328",
   "metadata": {},
   "outputs": [
    {
     "data": {
      "text/plain": [
       "794"
      ]
     },
     "execution_count": 12,
     "metadata": {},
     "output_type": "execute_result"
    }
   ],
   "source": [
    "sum(mark_overlaps)"
   ]
  }
 ],
 "metadata": {
  "kernelspec": {
   "display_name": "dot",
   "language": "python",
   "name": "dot"
  },
  "language_info": {
   "codemirror_mode": {
    "name": "ipython",
    "version": 3
   },
   "file_extension": ".py",
   "mimetype": "text/x-python",
   "name": "python",
   "nbconvert_exporter": "python",
   "pygments_lexer": "ipython3",
   "version": "3.10.8"
  }
 },
 "nbformat": 4,
 "nbformat_minor": 5
}
