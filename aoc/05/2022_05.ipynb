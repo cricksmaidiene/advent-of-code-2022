{
 "cells": [
  {
   "cell_type": "markdown",
   "id": "da81b800-e001-4082-b351-8860857e32ad",
   "metadata": {},
   "source": [
    "### --- Day 5: Supply Stacks ---\n",
    "The expedition can depart as soon as the final supplies have been unloaded from the ships. Supplies are stored in stacks of marked crates, but because the needed supplies are buried under many other crates, the crates need to be rearranged.\n",
    "\n",
    "The ship has a giant cargo crane capable of moving crates between stacks. To ensure none of the crates get crushed or fall over, the crane operator will rearrange them in a series of carefully-planned steps. After the crates are rearranged, the desired crates will be at the top of each stack.\n",
    "\n",
    "The Elves don't want to interrupt the crane operator during this delicate procedure, but they forgot to ask her which crate will end up where, and they want to be ready to unload them as soon as possible so they can embark.\n",
    "\n",
    "They do, however, have a drawing of the starting stacks of crates and the rearrangement procedure (your puzzle input). For example:\n",
    "\n",
    "```\n",
    "    [D]    \n",
    "[N] [C]    \n",
    "[Z] [M] [P]\n",
    " 1   2   3 \n",
    "\n",
    "move 1 from 2 to 1\n",
    "move 3 from 1 to 3\n",
    "move 2 from 2 to 1\n",
    "move 1 from 1 to 2\n",
    "\n",
    "```\n",
    "In this example, there are three stacks of crates. Stack 1 contains two crates: crate Z is on the bottom, and crate N is on top. Stack 2 contains three crates; from bottom to top, they are crates M, C, and D. Finally, stack 3 contains a single crate, P.\n",
    "\n",
    "Then, the rearrangement procedure is given. In each step of the procedure, a quantity of crates is moved from one stack to a different stack. In the first step of the above rearrangement procedure, one crate is moved from stack 2 to stack 1, resulting in this configuration:\n",
    "```\n",
    "[D]        \n",
    "[N] [C]    \n",
    "[Z] [M] [P]\n",
    " 1   2   3 \n",
    "```\n",
    "In the second step, three crates are moved from stack 1 to stack 3. Crates are moved one at a time, so the first crate to be moved (D) ends up below the second and third crates:\n",
    "\n",
    "```\n",
    "        [Z]\n",
    "        [N]\n",
    "    [C] [D]\n",
    "    [M] [P]\n",
    " 1   2   3\n",
    " ```\n",
    "Then, both crates are moved from stack 2 to stack 1. Again, because crates are moved one at a time, crate C ends up below crate M:\n",
    "\n",
    "```\n",
    "        [Z]\n",
    "        [N]\n",
    "[M]     [D]\n",
    "[C]     [P]\n",
    " 1   2   3\n",
    " ```\n",
    "Finally, one crate is moved from stack 1 to stack 2:\n",
    "\n",
    "```\n",
    "        [Z]\n",
    "        [N]\n",
    "        [D]\n",
    "[C] [M] [P]\n",
    " 1   2   3\n",
    " ```\n",
    "The Elves just need to know which crate will end up on top of each stack; in this example, the top crates are C in stack 1, M in stack 2, and Z in stack 3, so you should combine these together and give the Elves the message CMZ.\n",
    "\n",
    "After the rearrangement procedure completes, what crate ends up on top of each stack?"
   ]
  },
  {
   "cell_type": "code",
   "execution_count": 1,
   "id": "c4049584-fda2-45b6-8014-a0a5d923cab6",
   "metadata": {},
   "outputs": [],
   "source": [
    "import re\n",
    "from itertools import groupby"
   ]
  },
  {
   "cell_type": "code",
   "execution_count": 2,
   "id": "38d1bf36-bc93-40a6-80a4-3077498b561a",
   "metadata": {},
   "outputs": [],
   "source": [
    "with open(\"input.txt\") as f:\n",
    "    inp_tup: list[tuple[str, str]] = [x.replace(\"\\n\", \"\") for x in f.readlines()]"
   ]
  },
  {
   "cell_type": "code",
   "execution_count": 3,
   "id": "38bdf1a8-09ed-449e-9d83-191f9c647d0f",
   "metadata": {},
   "outputs": [
    {
     "data": {
      "text/plain": [
       "['        [H]         [S]         [D]',\n",
       " '    [S] [C]         [C]     [Q] [L]',\n",
       " '    [C] [R] [Z]     [R]     [H] [Z]',\n",
       " '    [G] [N] [H] [S] [B]     [R] [F]',\n",
       " '[D] [T] [Q] [F] [Q] [Z]     [Z] [N]',\n",
       " '[Z] [W] [F] [N] [F] [W] [J] [V] [G]',\n",
       " '[T] [R] [B] [C] [L] [P] [F] [L] [H]',\n",
       " '[H] [Q] [P] [L] [G] [V] [Z] [D] [B]',\n",
       " ' 1   2   3   4   5   6   7   8   9 ']"
      ]
     },
     "execution_count": 3,
     "metadata": {},
     "output_type": "execute_result"
    }
   ],
   "source": [
    "# separate crates and moves based on the blank newline in between\n",
    "crates, moves = [list(g) for k, g in groupby(inp_tup, key=lambda s: s != \"\") if k]\n",
    "crates"
   ]
  },
  {
   "cell_type": "code",
   "execution_count": 4,
   "id": "af84255b-fd4f-4065-bdc1-3fa91ba303d9",
   "metadata": {},
   "outputs": [
    {
     "data": {
      "text/plain": [
       "['move 2 from 7 to 2',\n",
       " 'move 1 from 4 to 8',\n",
       " 'move 2 from 1 to 9',\n",
       " 'move 4 from 6 to 5',\n",
       " 'move 1 from 7 to 6']"
      ]
     },
     "execution_count": 4,
     "metadata": {},
     "output_type": "execute_result"
    }
   ],
   "source": [
    "moves[0:5]"
   ]
  },
  {
   "cell_type": "code",
   "execution_count": 5,
   "id": "c4b9cc10-494e-4d76-890d-63ed62db355e",
   "metadata": {},
   "outputs": [],
   "source": [
    "container_matrix: list[list[str | None]] = []\n",
    "\n",
    "for each_row in crates:\n",
    "    # go row by row and add str text as list elements\n",
    "    spaces_count: int = 0\n",
    "    row_containers: list[str | None] = []\n",
    "\n",
    "    # when using split by whitespace, every 3 or so whitespace characters are equivalent to a single \"null\" container\n",
    "    for char in each_row.split(\" \"):\n",
    "        # add on to spaces count to find multiple of 3 whitepaces\n",
    "        if char == \"\":\n",
    "            spaces_count += 1\n",
    "            continue\n",
    "\n",
    "        # find actual spaces / lack of containers between those present\n",
    "        actual_spaces: int = int(spaces_count / 3)\n",
    "\n",
    "        # create a list of empty containers between two existing containers\n",
    "        empty_containers: list[None] = [None for _ in range(actual_spaces)]\n",
    "\n",
    "        # add existing and null containers to matrix\n",
    "        row_containers.extend(empty_containers)\n",
    "        row_containers.append(char.replace(\"[\", \"\").replace(\"]\", \"\"))\n",
    "\n",
    "        # reset spaces count for next window\n",
    "        spaces_count = 0\n",
    "\n",
    "    # Add the entire container row to the matrix. Empty containers will show up as None (null)\n",
    "    container_matrix.append(row_containers)"
   ]
  },
  {
   "cell_type": "code",
   "execution_count": 6,
   "id": "d8b6a882-b86a-411f-95d0-cc61ebd4b9d7",
   "metadata": {},
   "outputs": [
    {
     "data": {
      "text/plain": [
       "[[None, None, 'H', None, None, 'S', None, None, 'D'],\n",
       " [None, 'S', 'C', None, None, 'C', None, 'Q', 'L'],\n",
       " [None, 'C', 'R', 'Z', None, 'R', None, 'H', 'Z'],\n",
       " [None, 'G', 'N', 'H', 'S', 'B', None, 'R', 'F'],\n",
       " ['D', 'T', 'Q', 'F', 'Q', 'Z', None, 'Z', 'N'],\n",
       " ['Z', 'W', 'F', 'N', 'F', 'W', 'J', 'V', 'G'],\n",
       " ['T', 'R', 'B', 'C', 'L', 'P', 'F', 'L', 'H'],\n",
       " ['H', 'Q', 'P', 'L', 'G', 'V', 'Z', 'D', 'B'],\n",
       " ['1', '2', '3', '4', '5', '6', '7', '8', '9']]"
      ]
     },
     "execution_count": 6,
     "metadata": {},
     "output_type": "execute_result"
    }
   ],
   "source": [
    "container_matrix"
   ]
  },
  {
   "cell_type": "code",
   "execution_count": 16,
   "id": "ed88fa40-9bf0-4aa7-97b5-e474832a7acb",
   "metadata": {},
   "outputs": [
    {
     "data": {
      "text/plain": [
       "{1: ['H', 'T', 'Z', 'D'],\n",
       " 2: ['Q', 'R', 'W', 'T', 'G', 'C', 'S'],\n",
       " 3: ['P', 'B', 'F', 'Q', 'N', 'R', 'C', 'H'],\n",
       " 4: ['L', 'C', 'N', 'F', 'H', 'Z'],\n",
       " 5: ['G', 'L', 'F', 'Q', 'S'],\n",
       " 6: ['V', 'P', 'W', 'Z', 'B', 'R', 'C', 'S'],\n",
       " 7: ['Z', 'F', 'J'],\n",
       " 8: ['D', 'L', 'V', 'Z', 'R', 'H', 'Q'],\n",
       " 9: ['B', 'H', 'G', 'N', 'F', 'Z', 'L', 'D']}"
      ]
     },
     "execution_count": 16,
     "metadata": {},
     "output_type": "execute_result"
    }
   ],
   "source": [
    "transposed_matrix: list[list[str | None]] = list(map(list, zip(*container_matrix)))\n",
    "for x in transposed_matrix:\n",
    "    x.reverse()\n",
    "\n",
    "container_map_with_nulls: dict[str, list[str | None]] = {\n",
    "    x[0]: x[1:] for x in transposed_matrix\n",
    "}\n",
    "\n",
    "container_map: dict[int, list[str]] = {\n",
    "    int(k): [elem for elem in v if elem] for k, v in container_map_with_nulls.items()\n",
    "}\n",
    "\n",
    "container_map"
   ]
  },
  {
   "cell_type": "code",
   "execution_count": 17,
   "id": "b8f5636a-a4b2-417d-81af-707480911d54",
   "metadata": {},
   "outputs": [
    {
     "data": {
      "text/plain": [
       "[(2, 7, 2), (1, 4, 8), (2, 1, 9), (4, 6, 5), (1, 7, 6)]"
      ]
     },
     "execution_count": 17,
     "metadata": {},
     "output_type": "execute_result"
    }
   ],
   "source": [
    "# create a moves index as a 3-tuple of the form (containers, from, to)\n",
    "moves_indexed: list[tuple[int, int, int]] = [\n",
    "    tuple([int(y) for y in re.findall(r\"\\d+\", x)]) for x in moves\n",
    "]\n",
    "\n",
    "moves_indexed[0:5]"
   ]
  },
  {
   "cell_type": "code",
   "execution_count": 18,
   "id": "b9bea49f-249d-46e3-b877-80e2a7a814a7",
   "metadata": {},
   "outputs": [
    {
     "data": {
      "text/plain": [
       "True"
      ]
     },
     "execution_count": 18,
     "metadata": {},
     "output_type": "execute_result"
    }
   ],
   "source": [
    "len(moves_indexed) == len(moves)"
   ]
  },
  {
   "cell_type": "code",
   "execution_count": 19,
   "id": "83321aed-603a-4b57-bd61-f042f42a1f5e",
   "metadata": {},
   "outputs": [],
   "source": [
    "def apply_changes(moves: tuple[...], retain_order: bool = False):\n",
    "    # get moves attrs\n",
    "    num_containers, source, target = moves\n",
    "\n",
    "    # use the crane\n",
    "    chosen_row: list[str] = container_map[source]\n",
    "    # remove the last set of `num_container` elements\n",
    "    items_from_row: list[str] = chosen_row[-num_containers:]\n",
    "    # reverse items since it's a stack push\n",
    "    if not retain_order:\n",
    "        items_from_row.reverse()\n",
    "\n",
    "    # extend target row with items from other row\n",
    "    container_map[target].extend(items_from_row)\n",
    "    # remove items from the end of the source row\n",
    "    container_map[source] = container_map[source][:-num_containers]"
   ]
  },
  {
   "cell_type": "code",
   "execution_count": 20,
   "id": "361cca50-4066-434f-882f-89f3d22c76b9",
   "metadata": {},
   "outputs": [],
   "source": [
    "for each_move in moves_indexed:\n",
    "    apply_changes(each_move)"
   ]
  },
  {
   "cell_type": "code",
   "execution_count": 21,
   "id": "90817b84-f852-4fb5-aeed-b33d0196f834",
   "metadata": {},
   "outputs": [
    {
     "data": {
      "text/plain": [
       "'RFFFWBPNS'"
      ]
     },
     "execution_count": 21,
     "metadata": {},
     "output_type": "execute_result"
    }
   ],
   "source": [
    "\"\".join(\n",
    "    [\n",
    "        container_top[1]\n",
    "        for container_top in sorted(\n",
    "            [\n",
    "                (row_number, stacked_containers[-1])\n",
    "                for row_number, stacked_containers in container_map.items()\n",
    "            ],\n",
    "            key=lambda x: x[0],\n",
    "        )\n",
    "    ]\n",
    ")"
   ]
  },
  {
   "cell_type": "markdown",
   "id": "178a6dd2-f64a-446c-a237-722a901db8f2",
   "metadata": {},
   "source": [
    "Part Two"
   ]
  },
  {
   "cell_type": "markdown",
   "id": "722960a8-e73b-4f40-ba08-52ff23aeb2fa",
   "metadata": {},
   "source": [
    "As you watch the crane operator expertly rearrange the crates, you notice the process isn't following your prediction.\n",
    "\n",
    "Some mud was covering the writing on the side of the crane, and you quickly wipe it away. The crane isn't a CrateMover 9000 - it's a CrateMover 9001.\n",
    "\n",
    "The CrateMover 9001 is notable for many new and exciting features: air conditioning, leather seats, an extra cup holder, and the ability to pick up and move multiple crates at once.\n",
    "\n",
    "Again considering the example above, the crates begin in the same configuration:\n",
    "\n",
    "```\n",
    "    [D]    \n",
    "[N] [C]    \n",
    "[Z] [M] [P]\n",
    " 1   2   3 \n",
    "```\n",
    "\n",
    "Moving a single crate from stack 2 to stack 1 behaves the same as before:\n",
    "\n",
    "```\n",
    "[D]        \n",
    "[N] [C]    \n",
    "[Z] [M] [P]\n",
    " 1   2   3 \n",
    "```\n",
    "However, the action of moving three crates from stack 1 to stack 3 means that those three moved crates stay in the same order, resulting in this new configuration:\n",
    "\n",
    "```\n",
    "        [D]\n",
    "        [N]\n",
    "    [C] [Z]\n",
    "    [M] [P]\n",
    " 1   2   3\n",
    "```\n",
    "Next, as both crates are moved from stack 2 to stack 1, they retain their order as well:\n",
    "\n",
    "```\n",
    "        [D]\n",
    "        [N]\n",
    "[C]     [Z]\n",
    "[M]     [P]\n",
    " 1   2   3\n",
    "```\n",
    "Finally, a single crate is still moved from stack 1 to stack 2, but now it's crate C that gets moved:\n",
    "\n",
    "```\n",
    "        [D]\n",
    "        [N]\n",
    "        [Z]\n",
    "[M] [C] [P]\n",
    " 1   2   3\n",
    "```\n",
    "In this example, the CrateMover 9001 has put the crates in a totally different order: MCD.\n",
    "\n",
    "Before the rearrangement process finishes, update your simulation so that the Elves know where they should stand to be ready to unload the final supplies. After the rearrangement procedure completes, what crate ends up on top of each stack?"
   ]
  },
  {
   "cell_type": "code",
   "execution_count": 27,
   "id": "1ba0fcc3-f729-438f-94df-8f5266a268fc",
   "metadata": {},
   "outputs": [
    {
     "data": {
      "text/plain": [
       "{1: ['H', 'T', 'Z', 'D'],\n",
       " 2: ['Q', 'R', 'W', 'T', 'G', 'C', 'S'],\n",
       " 3: ['P', 'B', 'F', 'Q', 'N', 'R', 'C', 'H'],\n",
       " 4: ['L', 'C', 'N', 'F', 'H', 'Z'],\n",
       " 5: ['G', 'L', 'F', 'Q', 'S'],\n",
       " 6: ['V', 'P', 'W', 'Z', 'B', 'R', 'C', 'S'],\n",
       " 7: ['Z', 'F', 'J'],\n",
       " 8: ['D', 'L', 'V', 'Z', 'R', 'H', 'Q'],\n",
       " 9: ['B', 'H', 'G', 'N', 'F', 'Z', 'L', 'D']}"
      ]
     },
     "execution_count": 27,
     "metadata": {},
     "output_type": "execute_result"
    }
   ],
   "source": [
    "container_map: dict[int, list[str]] = {\n",
    "    int(k): [elem for elem in v if elem] for k, v in container_map_with_nulls.items()\n",
    "}\n",
    "\n",
    "container_map"
   ]
  },
  {
   "cell_type": "code",
   "execution_count": 28,
   "id": "995115da-1ae9-4a2a-8598-1a78ddbaed72",
   "metadata": {},
   "outputs": [],
   "source": [
    "for each_move in moves_indexed:\n",
    "    apply_changes(each_move, retain_order=True)"
   ]
  },
  {
   "cell_type": "code",
   "execution_count": 29,
   "id": "c79459e5-e7db-421a-b59a-1a1f7028656e",
   "metadata": {},
   "outputs": [
    {
     "data": {
      "text/plain": [
       "'CQQBBJFCS'"
      ]
     },
     "execution_count": 29,
     "metadata": {},
     "output_type": "execute_result"
    }
   ],
   "source": [
    "\"\".join(\n",
    "    [\n",
    "        container_top[1]\n",
    "        for container_top in sorted(\n",
    "            [\n",
    "                (row_number, stacked_containers[-1])\n",
    "                for row_number, stacked_containers in container_map.items()\n",
    "            ],\n",
    "            key=lambda x: x[0],\n",
    "        )\n",
    "    ]\n",
    ")"
   ]
  },
  {
   "cell_type": "code",
   "execution_count": null,
   "id": "e7c62d5d-7d52-4fb0-94c4-83323fcad0bf",
   "metadata": {},
   "outputs": [],
   "source": []
  }
 ],
 "metadata": {
  "kernelspec": {
   "display_name": "dot",
   "language": "python",
   "name": "dot"
  },
  "language_info": {
   "codemirror_mode": {
    "name": "ipython",
    "version": 3
   },
   "file_extension": ".py",
   "mimetype": "text/x-python",
   "name": "python",
   "nbconvert_exporter": "python",
   "pygments_lexer": "ipython3",
   "version": "3.10.8"
  }
 },
 "nbformat": 4,
 "nbformat_minor": 5
}
